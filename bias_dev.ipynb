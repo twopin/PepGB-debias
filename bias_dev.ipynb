{
 "cells": [
  {
   "cell_type": "code",
   "execution_count": 1,
   "id": "14c2115f-23e8-46a2-a4e9-60310d4bebe6",
   "metadata": {},
   "outputs": [],
   "source": [
    "%load_ext autoreload\n",
    "%autoreload 2\n",
    "%config Completer.use_jedi = False"
   ]
  },
  {
   "cell_type": "code",
   "execution_count": 2,
   "id": "95fe0474-c2ed-41ce-a0d3-65d713de2be7",
   "metadata": {},
   "outputs": [],
   "source": [
    "import os"
   ]
  },
  {
   "cell_type": "code",
   "execution_count": 3,
   "id": "cb24145f-6bab-457f-b5a0-1405a83b7ff1",
   "metadata": {},
   "outputs": [],
   "source": [
    "import pandas as pd"
   ]
  },
  {
   "cell_type": "code",
   "execution_count": 6,
   "id": "ed6366c5-7d7d-4151-8b84-5dbf49c07b6a",
   "metadata": {},
   "outputs": [],
   "source": [
    "df = pd.read_csv(\"./data/yipin_protein_peptide/raw/pep_cls_net_cluster_0107_05.csv\",index_col=0)"
   ]
  },
  {
   "cell_type": "code",
   "execution_count": null,
   "id": "e68996c8-1eba-4ea5-8633-73877c5580c6",
   "metadata": {},
   "outputs": [],
   "source": []
  },
  {
   "cell_type": "code",
   "execution_count": null,
   "id": "17a697ea-1b56-4bb8-8b04-99c11028f169",
   "metadata": {},
   "outputs": [],
   "source": [
    "df = pd.read_csv(\"./data/yipin_protein_peptide/raw/pep_cls_net_cluster_0107_05.csv\",index_col=0)\n",
    "for fold_id \n",
    "edges_df_train = df[df[\"Fold1_split\"] == \"train\"]\n",
    "edges_df_test = df[df[\"Fold1_split\"] == \"test\"]\n",
    "reduct_ratio=0.05\n",
    "if reduct_ratio != 0:\n",
    "    # edges_df_train = (\n",
    "    #     edges_df.groupby(\"prot_idx\")\n",
    "    #     .apply(lambda x: x.sample(frac=(1 - self.reduct_ratio)))\n",
    "    #     .reset_index(drop=True)\n",
    "    # )\n",
    "    dfs = []\n",
    "    s_column = \"prot_idx\"\n",
    "\n",
    "    ratio = 1 - reduct_ratio\n",
    "    for _v in list(edges_df_train[s_column].unique()):\n",
    "        _s_df = edges_df_train[edges_df_train[s_column] == _v]\n",
    "        if len(_s_df) == 1:\n",
    "            dfs.append(_s_df)\n",
    "        else:\n",
    "            n_rows_to_choose = int(len(_s_df) * ratio)\n",
    "            if n_rows_to_choose < 1:\n",
    "                dfs.append(_s_df.sample(n=1))\n",
    "            else:\n",
    "                dfs.append(_s_df.sample(n=n_rows_to_choose))\n",
    "    edges_df_train = pd.concat(dfs).reset_index()\n",
    "edges_df = pd.concat([edges_df_train,edges_df_test])"
   ]
  },
  {
   "cell_type": "code",
   "execution_count": null,
   "id": "b3a3aced-4b8d-4066-9365-dfce16d7a958",
   "metadata": {},
   "outputs": [],
   "source": [
    "print(len(edges_df))\n",
    "edges_df.reset_index(drop=True)"
   ]
  },
  {
   "cell_type": "code",
   "execution_count": null,
   "id": "f3f2a32c-dcf5-4f60-b852-1a3f9b00bbd0",
   "metadata": {},
   "outputs": [],
   "source": [
    "?edges_df.reset_index"
   ]
  },
  {
   "cell_type": "code",
   "execution_count": null,
   "id": "7982e3e5-1328-4e2b-b234-a3dcf891d2fe",
   "metadata": {
    "scrolled": true
   },
   "outputs": [],
   "source": [
    "data = {\n",
    "    'A': [1, 2, 2, 3, 4, 4, 4, 5],\n",
    "    'B': ['a', 'b', 'c', 'd', 'e', 'f', 'g', 'h']\n",
    "}\n",
    "df = pd.DataFrame(data)\n",
    "dfs = []\n",
    "ratio = 0.7\n",
    "for _v in list(df[\"A\"].unique()):\n",
    "    s_df = df[df[\"A\"] == _v]\n",
    "    if len(s_df) == 1:\n",
    "        dfs.append(s_df)\n",
    "    else:\n",
    "        n_rows_to_choose = int(len(s_df) * ratio)\n",
    "        if n_rows_to_choose < 1:\n",
    "            dfs.append(s_df.sample(n=1))\n",
    "        else:\n",
    "            dfs.append(s_df.sample(n=n_rows_to_choose))"
   ]
  },
  {
   "cell_type": "code",
   "execution_count": null,
   "id": "d3190d2c-d686-4730-ba25-6581999f8f99",
   "metadata": {},
   "outputs": [],
   "source": [
    "dfs = []\n",
    "ratio = 0.7\n",
    "for _v in list(df[\"A\"].unique()):\n",
    "    s_df = df[df[\"A\"] == _v]\n",
    "    if len(s_df) == 1:\n",
    "        dfs.append(s_df)\n",
    "    else:\n",
    "        n_rows_to_choose = int(len(s_df) * ratio)\n",
    "        if n_rows_to_choose < 1:\n",
    "            dfs.append(s_df.sample(n=1))\n",
    "        else:\n",
    "            dfs.append(s_df.sample(n=n_rows_to_choose))"
   ]
  },
  {
   "cell_type": "code",
   "execution_count": null,
   "id": "ea3c88ad-da52-453e-84a9-c83597af3298",
   "metadata": {},
   "outputs": [],
   "source": [
    "pd.concat(dfs).reset_index()"
   ]
  },
  {
   "cell_type": "code",
   "execution_count": null,
   "id": "d32499a3-5499-449c-a5b6-b6fe7f7f1710",
   "metadata": {},
   "outputs": [],
   "source": [
    "df"
   ]
  },
  {
   "cell_type": "code",
   "execution_count": null,
   "id": "b9c0e968-d07e-472b-800e-fca246181039",
   "metadata": {},
   "outputs": [],
   "source": []
  },
  {
   "cell_type": "code",
   "execution_count": null,
   "id": "2e1196c7-e6aa-4343-983d-57f140612eb5",
   "metadata": {},
   "outputs": [],
   "source": [
    "i"
   ]
  },
  {
   "cell_type": "code",
   "execution_count": null,
   "id": "0091aeed-791b-4f23-a4c0-3cd6e53f0d62",
   "metadata": {},
   "outputs": [],
   "source": [
    "# Group by the column and count occurrences of each value\n",
    "counts = df.groupby(\"prot_idx\").size()\n",
    "\n",
    "# Filter values that occur more than once and equal to one\n",
    "more_than_once = counts[counts > 1].index\n",
    "equal_to_one = counts[counts == 1].index\n",
    "\n",
    "# Select rows from the DataFrame based on the filtered values\n",
    "df_more_than_once = df[df[\"prot_idx\"].isin(more_than_once)]\n",
    "df_equal_to_one = df[df[\"prot_idx\"].isin(equal_to_one)]\n"
   ]
  },
  {
   "cell_type": "code",
   "execution_count": null,
   "id": "2145215c-a81e-45de-adbc-a38f441ab375",
   "metadata": {},
   "outputs": [],
   "source": []
  },
  {
   "cell_type": "code",
   "execution_count": null,
   "id": "acf69571-21af-4b30-8125-a254e725c877",
   "metadata": {},
   "outputs": [],
   "source": [
    "type(df[\"pep_idx\"].value_counts())"
   ]
  },
  {
   "cell_type": "code",
   "execution_count": null,
   "id": "b90556b9-2dff-4069-9664-aee168f3a8d5",
   "metadata": {},
   "outputs": [],
   "source": [
    "pep_cnts = df[\"pep_idx\"].value_counts()\n",
    "pep_cnts[pep_cnts> 1]"
   ]
  },
  {
   "cell_type": "code",
   "execution_count": null,
   "id": "5a572575-6206-4457-9a49-10b710fe1cf4",
   "metadata": {},
   "outputs": [],
   "source": [
    "prot_cnts = df[\"prot_idx\"].value_counts()\n",
    "prot_cnts[prot_cnts> 1]"
   ]
  },
  {
   "cell_type": "code",
   "execution_count": null,
   "id": "2666907c-09db-48c4-8bc3-cf2b760fe15b",
   "metadata": {},
   "outputs": [],
   "source": [
    "import mlflow"
   ]
  },
  {
   "cell_type": "code",
   "execution_count": null,
   "id": "1a3e649a-2a99-443e-95b5-48b537714613",
   "metadata": {},
   "outputs": [],
   "source": [
    "import mlflow\n",
    "from mlflow.tracking import MlflowClient\n",
    "\n",
    "# Set the MLflow tracking URI if you're using a remote server\n",
    "mlflow.set_tracking_uri(\"http://192.168.1.237:45001\")\n",
    "\n",
    "# Initialize the MLflow client\n",
    "client = MlflowClient()\n",
    "\n",
    "# List all experiments\n",
    "experiments = client.search_experiments()\n",
    "for experiment in experiments:\n",
    "    print(f\"Experiment ID: {experiment.experiment_id}, Name: {experiment.name}\")"
   ]
  },
  {
   "cell_type": "code",
   "execution_count": null,
   "id": "0d9768e9-fae0-4ac9-98b1-27e083c2c8d5",
   "metadata": {},
   "outputs": [],
   "source": [
    "?client.search_experiments"
   ]
  },
  {
   "cell_type": "code",
   "execution_count": null,
   "id": "4f58f188-5171-42c8-ba4f-a788f50700d9",
   "metadata": {},
   "outputs": [],
   "source": [
    "exp = client.get_experiment_by_name(experiments[0].name)"
   ]
  },
  {
   "cell_type": "code",
   "execution_count": null,
   "id": "9ffba43d-c789-4c6f-8341-97c52cb97bab",
   "metadata": {},
   "outputs": [],
   "source": [
    "runs = mlflow.search_runs(experiment_ids=[experiments[0].experiment_id])\n",
    "\n",
    "# Convert the runs to a DataFrame\n",
    "df = pd.DataFrame(runs)"
   ]
  },
  {
   "cell_type": "code",
   "execution_count": null,
   "id": "3456ed36-d9ce-4c2d-81d4-ae0525134b18",
   "metadata": {},
   "outputs": [],
   "source": [
    "experiments = client.search_experiments(filter_string=\"name LIKE 'bias_ratio_exp%'\")"
   ]
  },
  {
   "cell_type": "code",
   "execution_count": null,
   "id": "50322d55-6bc5-420a-8782-40bc1a78cc4c",
   "metadata": {},
   "outputs": [],
   "source": [
    "experiments"
   ]
  },
  {
   "cell_type": "code",
   "execution_count": null,
   "id": "66d81a51-1c81-4f24-b071-fa5eb2b48467",
   "metadata": {},
   "outputs": [],
   "source": [
    "experiments = client.search_experiments(filter_string=\"name LIKE 'neg_sampling_ratio_exp%'\")"
   ]
  },
  {
   "cell_type": "code",
   "execution_count": null,
   "id": "d904934e-9cb8-48ac-a57e-545d1e24629a",
   "metadata": {},
   "outputs": [],
   "source": [
    "experiments"
   ]
  },
  {
   "cell_type": "code",
   "execution_count": null,
   "id": "cc26f58d-ab74-4e3f-9e8c-85c7dea2f1aa",
   "metadata": {},
   "outputs": [],
   "source": [
    "\n",
    "import mlflow\n",
    "from mlflow.tracking import MlflowClient\n",
    "import pandas as pd\n",
    "\n",
    "# Set the MLflow tracking URI if you're using a remote server\n",
    "mlflow.set_tracking_uri(\"http://192.168.1.237:45001\")\n",
    "\n",
    "# Initialize the MLflow client\n",
    "client = MlflowClient()\n",
    "\n",
    "experiments = []\n",
    "\n",
    "# add bias experiments\n",
    "experiments += client.search_experiments(\n",
    "    filter_string=\"name LIKE 'bias_ratio_exp%'\"\n",
    ")\n",
    "\n",
    "# add neg sampling ratio experiments\n",
    "experiments += client.search_experiments(\n",
    "    filter_string=\"name LIKE 'neg_sampling_ratio_exp%'\"\n",
    ")\n",
    "exp_ids = [_exp.experiment_id for _exp in experiments]\n",
    "\n",
    "runs = client.search_runs(experiment_ids=exp_ids)"
   ]
  },
  {
   "cell_type": "code",
   "execution_count": null,
   "id": "f904f570-7121-477a-aa70-bb2264d933f4",
   "metadata": {},
   "outputs": [],
   "source": [
    "runs[0]"
   ]
  },
  {
   "cell_type": "code",
   "execution_count": null,
   "id": "5cacdded-3933-47b4-a7f9-ae406d60f0d5",
   "metadata": {},
   "outputs": [],
   "source": []
  }
 ],
 "metadata": {
  "kernelspec": {
   "display_name": "Python 3 (ipykernel)",
   "language": "python",
   "name": "python3"
  },
  "language_info": {
   "codemirror_mode": {
    "name": "ipython",
    "version": 3
   },
   "file_extension": ".py",
   "mimetype": "text/x-python",
   "name": "python",
   "nbconvert_exporter": "python",
   "pygments_lexer": "ipython3",
   "version": "3.9.18"
  }
 },
 "nbformat": 4,
 "nbformat_minor": 5
}
