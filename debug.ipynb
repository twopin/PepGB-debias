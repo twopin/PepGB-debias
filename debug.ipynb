{
 "cells": [
  {
   "cell_type": "code",
   "execution_count": null,
   "id": "6736b3f5-8303-487e-9282-daf323c5106f",
   "metadata": {},
   "outputs": [],
   "source": [
    "%load_ext autoreload\n",
    "%autoreload 2\n",
    "%config Completer.use_jedi = False"
   ]
  },
  {
   "cell_type": "code",
   "execution_count": null,
   "id": "b78bc5c9-e2df-443c-8be9-e1ad25a2a27a",
   "metadata": {},
   "outputs": [],
   "source": [
    "import pandas as pd\n",
    "import numpy as np\n",
    "from src.random_split import RandomLinkSplit"
   ]
  },
  {
   "cell_type": "code",
   "execution_count": null,
   "id": "31cd6d27-9da2-45f0-a6ec-ae03634c5dfe",
   "metadata": {},
   "outputs": [],
   "source": [
    "df = pd.read_csv(\"./data/yipin_protein_peptide/raw/pep_cls_net_cluster_0107_05.csv\")"
   ]
  },
  {
   "cell_type": "code",
   "execution_count": null,
   "id": "7c296dc7-9c5a-4235-b631-d420e5c3e43b",
   "metadata": {},
   "outputs": [],
   "source": [
    "perm = np.hstack([np.argwhere((df[\"Fold1_split\"] == \"train\")).flatten(),\n",
    "                     np.argwhere((df[\"Fold1_split\"] == \"test\")).flatten()])\n",
    "num_val = np.argwhere((df[\"Fold1_split\"] == \"test\")).flatten().shape[0]\n",
    "transform = ManualLinkSplit(\n",
    "    perm=perm,\n",
    "    num_val=num_val,\n",
    "    disjoint_train_ratio=0.8,\n",
    "    neg_sampling_ratio=0,\n",
    "    is_undirected=True,\n",
    "    add_negative_train_samples=False,\n",
    "    edge_types=(\"pep\", \"bind\", \"prot\"),\n",
    "    rev_edge_types=(\"prot\", \"rev_bind\", \"pep\"),\n",
    ")\n",
    "train_data,val_data = transform(data)"
   ]
  },
  {
   "cell_type": "code",
   "execution_count": null,
   "id": "a42758c2-0df3-40f9-ab89-01a1aabee72a",
   "metadata": {},
   "outputs": [],
   "source": [
    "test = 1\n",
    "f\"fold-{test}-\""
   ]
  },
  {
   "cell_type": "code",
   "execution_count": null,
   "id": "fd5cd44d-0fd4-4b45-ad44-2362a5cafbd4",
   "metadata": {},
   "outputs": [],
   "source": [
    "val_data"
   ]
  },
  {
   "cell_type": "code",
   "execution_count": null,
   "id": "f20e8287-8007-427a-a78d-7b3a26bbcc98",
   "metadata": {},
   "outputs": [],
   "source": [
    "np.argwhere((df[\"Fold1_split\"] == \"train\")).flatten().shape"
   ]
  },
  {
   "cell_type": "code",
   "execution_count": null,
   "id": "0bb3dd4e-a004-4383-a2d3-327f4b393fc5",
   "metadata": {},
   "outputs": [],
   "source": [
    "torch.randperm(10).dtype"
   ]
  },
  {
   "cell_type": "code",
   "execution_count": null,
   "id": "29dbf254-5380-4e4f-a9b5-4e2681a5c0e8",
   "metadata": {},
   "outputs": [],
   "source": [
    "torch.tensor(perm).dtype"
   ]
  },
  {
   "cell_type": "code",
   "execution_count": null,
   "id": "e9eb042e-5087-4d33-816e-f43192a9f12b",
   "metadata": {},
   "outputs": [],
   "source": [
    "pep_ids = np.array(df[\"pep_idx\"])\n",
    "prot_ids = np.array(df[\"prot_idx\"])"
   ]
  },
  {
   "cell_type": "code",
   "execution_count": null,
   "id": "3de530b4-7eca-49ab-85e0-ddc77bcd8c13",
   "metadata": {},
   "outputs": [],
   "source": [
    "np.count_nonzero( pep_ids < prot_ids)"
   ]
  },
  {
   "cell_type": "code",
   "execution_count": null,
   "id": "fff83278-f433-4c7d-b780-176d5c2d28a6",
   "metadata": {},
   "outputs": [],
   "source": [
    "import shutil\n",
    "from src.data import PLProteinPeptideInteraction, ProteinPeptideInteraction\n",
    "from src.model import PPIHetero\n",
    "from torchmetrics import AUROC, ROC\n",
    "from sklearn.metrics import precision_recall_curve, auc\n",
    "from typing import Dict, List, Tuple\n",
    "from torch import Tensor\n",
    "import torch_geometric.transforms as T\n",
    "\n",
    "from torch_geometric.typing import EdgeType, NodeType\n",
    "from torch_geometric.data import Batch\n",
    "import torch.nn.functional as F\n",
    "import torch\n",
    "from lightning.pytorch import (\n",
    "    LightningModule,\n",
    "    Trainer,\n",
    ")\n",
    "from lightning.pytorch.callbacks import ModelCheckpoint\n",
    "from torch_geometric.data.lightning import LightningLinkData\n"
   ]
  },
  {
   "cell_type": "code",
   "execution_count": null,
   "id": "d93e2ead-67c0-40fa-87ce-2fab5425c56a",
   "metadata": {},
   "outputs": [],
   "source": [
    "shutil.rmtree(\"./data/yipin_protein_peptide/processed/\")\n",
    "ppi = ProteinPeptideInteraction(\"./data/yipin_protein_peptide/\")\n",
    "data = ppi[0]\n",
    "data = T.ToUndirected()(data)\n",
    "transform = RandomLinkSplit(\n",
    "    num_val=0.1,\n",
    "    num_test=0.1,\n",
    "    disjoint_train_ratio=0.3,\n",
    "    neg_sampling_ratio=0,\n",
    "    is_undirected=True,\n",
    "    add_negative_train_samples=False,\n",
    "    edge_types=(\"pep\", \"bind\", \"prot\"),\n",
    "    rev_edge_types=(\"prot\", \"rev_bind\", \"pep\"),\n",
    ")\n",
    "\n",
    "\n",
    "# data_module = LightningLinkData(\n",
    "#     data=data,\n",
    "#     input_train_edges=(\n",
    "#         (\"pep\", \"bind\", \"prot\"),\n",
    "#         data[\"pep\", \"bind\", \"prot\"][\"edge_index\"][:, data.train_mask],\n",
    "#     ),\n",
    "#     input_train_labels=data[\"pep\", \"bind\", \"prot\"][\"edge_label\"][\n",
    "#         data.train_mask\n",
    "#     ],\n",
    "#     input_val_edges=(\n",
    "#         (\"pep\", \"bind\", \"prot\"),\n",
    "#         data[\"pep\", \"bind\", \"prot\"][\"edge_index\"][:, data.test_mask],\n",
    "#     ),\n",
    "#     input_val_labels=data[\"pep\", \"bind\", \"prot\"][\"edge_label\"][\n",
    "#         data.test_mask\n",
    "#     ],\n",
    "#     input_test_edges=(\n",
    "#         (\"pep\", \"bind\", \"prot\"),\n",
    "#         data[\"pep\", \"bind\", \"prot\"][\"edge_index\"][:, data.test_mask],\n",
    "#     ),\n",
    "#     input_test_labels=data[\"pep\", \"bind\", \"prot\"][\"edge_label\"][\n",
    "#         data.test_mask\n",
    "#     ],\n",
    "#     num_neighbors={\n",
    "#         (\"pep\", \"bind\", \"prot\"): [10, 10],\n",
    "#         (\"prot\", \"rev_bind\", \"pep\"): [10, 10],\n",
    "#     },\n",
    "#     neg_sampling_ratio=10,\n",
    "#     batch_size=128,\n",
    "#     num_workers=2,\n",
    "# )\n"
   ]
  },
  {
   "cell_type": "code",
   "execution_count": null,
   "id": "f63a5fb7-d8ea-42c6-87c3-a98c2fc726a8",
   "metadata": {},
   "outputs": [],
   "source": [
    "from src.manuall_split import  ManualLinkSplit"
   ]
  },
  {
   "cell_type": "code",
   "execution_count": null,
   "id": "4f7f6274-4b2a-4516-84f9-eaae220319c3",
   "metadata": {},
   "outputs": [],
   "source": [
    "transform = ManualLinkSplit(\n",
    "    perm=,\n",
    "    num_val=1122,\n",
    "    disjoint_train_ratio=0.0,\n",
    "    neg_sampling_ratio=0,\n",
    "    is_undirected=True,\n",
    "    add_negative_train_samples=False,\n",
    "    edge_types=(\"pep\", \"bind\", \"prot\"),\n",
    "    rev_edge_types=(\"prot\", \"rev_bind\", \"pep\"),\n",
    ")\n",
    "train_data,val_data = transform(data)"
   ]
  },
  {
   "cell_type": "code",
   "execution_count": null,
   "id": "6efc51f7-3b28-49c2-8459-12ef1c50904c",
   "metadata": {},
   "outputs": [],
   "source": [
    "transform = RandomLinkSplit(\n",
    "    num_val=0.1,\n",
    "    num_test=0.1,\n",
    "    disjoint_train_ratio=0,\n",
    "    neg_sampling_ratio=0,\n",
    "    is_undirected=True,\n",
    "    add_negative_train_samples=False,\n",
    "    edge_types=(\"pep\", \"bind\", \"prot\"),\n",
    "    rev_edge_types=(\"prot\", \"rev_bind\", \"pep\"),\n",
    ")\n",
    "transform(data)\n",
    "train_data,val_data,test_data = transform(data)"
   ]
  },
  {
   "cell_type": "code",
   "execution_count": null,
   "id": "901e9423-9250-452d-87f8-8185cbd9b496",
   "metadata": {},
   "outputs": [],
   "source": [
    "train_data.edge_index_dict[\"pep\",\"bind\",\"prot\"].shape"
   ]
  },
  {
   "cell_type": "code",
   "execution_count": null,
   "id": "e9114b06-92bf-4c5d-8534-80aba6e48992",
   "metadata": {},
   "outputs": [],
   "source": [
    "train_data"
   ]
  },
  {
   "cell_type": "code",
   "execution_count": null,
   "id": "dd05f09c-b0e6-4a3e-9297-2ac9b9912057",
   "metadata": {},
   "outputs": [],
   "source": [
    "val_data"
   ]
  },
  {
   "cell_type": "code",
   "execution_count": null,
   "id": "859cc6bf-b26a-4be0-af2a-c3aef59ea1ec",
   "metadata": {},
   "outputs": [],
   "source": [
    "shutil.rmtree(\"./data/yipin_protein_peptide/processed/\")\n",
    "ppi = ProteinPeptideInteraction(\"./data/yipin_protein_peptide/\")\n",
    "data = ppi[0]\n",
    "data = T.ToUndirected()(data)\n",
    "transform = RandomLinkSplit(\n",
    "    num_val=0.1,\n",
    "    num_test=0.1,\n",
    "    disjoint_train_ratio=0.0,\n",
    "    neg_sampling_ratio=0.0,\n",
    "    is_undirected=True,\n",
    "    add_negative_train_samples=False,\n",
    "    edge_types=(\"pep\", \"bind\", \"prot\"),\n",
    "    rev_edge_types=(\"prot\", \"rev_bind\", \"pep\"),\n",
    ")\n",
    "\n",
    "train_data,val_data,test_data = transform(data)"
   ]
  },
  {
   "cell_type": "code",
   "execution_count": null,
   "id": "0b655124-47fe-41d4-b6d4-bd231c0ef448",
   "metadata": {},
   "outputs": [],
   "source": [
    "train_data[\"pep\",\"bind\",\"prot\"].edge_index.shape"
   ]
  },
  {
   "cell_type": "code",
   "execution_count": null,
   "id": "8ee247d5-2b5c-465a-85ae-411748e7104c",
   "metadata": {},
   "outputs": [],
   "source": [
    "val_data[\"pep\",\"bind\",\"prot\"].edge_index.shape"
   ]
  },
  {
   "cell_type": "code",
   "execution_count": null,
   "id": "49d32250-a7e6-4577-a2d9-ff80f4590854",
   "metadata": {},
   "outputs": [],
   "source": [
    "test_data[\"pep\",\"bind\",\"prot\"].edge_index.shape"
   ]
  },
  {
   "cell_type": "code",
   "execution_count": null,
   "id": "4d261e94-069c-471f-9507-c25e3bbdb129",
   "metadata": {},
   "outputs": [],
   "source": [
    "val_data[\"pep\",\"bind\",\"prot\"].edge_label_index"
   ]
  },
  {
   "cell_type": "code",
   "execution_count": null,
   "id": "601e27ec-766a-4b03-a1f0-ef1fe0a74874",
   "metadata": {},
   "outputs": [],
   "source": [
    "test_data[\"pep\",\"bind\",\"prot\"].edge_label_index"
   ]
  },
  {
   "cell_type": "code",
   "execution_count": null,
   "id": "f92ecf64-3d23-4cfc-91c3-118de98953af",
   "metadata": {},
   "outputs": [],
   "source": [
    "test_data"
   ]
  },
  {
   "cell_type": "code",
   "execution_count": null,
   "id": "14e0490e-4ba7-4ae3-bef1-83da217696e2",
   "metadata": {},
   "outputs": [],
   "source": [
    "train_data,val_data =  ppi.get_train_val_data(data)"
   ]
  },
  {
   "cell_type": "code",
   "execution_count": null,
   "id": "2d2a0b5f-a97a-4fde-8e5b-e1bd58b0b0b6",
   "metadata": {},
   "outputs": [],
   "source": [
    "723+723+578"
   ]
  },
  {
   "cell_type": "code",
   "execution_count": null,
   "id": "0a720b12-827b-418c-bc12-ea98a99c40e1",
   "metadata": {},
   "outputs": [],
   "source": [
    "val_transform = T.RandomLinkSplit(\n",
    "    num_val=0,\n",
    "    num_test=0,\n",
    "    disjoint_train_ratio=0,\n",
    "    neg_sampling_ratio=10,\n",
    "    add_negative_train_samples=True,\n",
    "    edge_types=(\"pep\", \"bind\", \"prot\"),\n",
    "    rev_edge_types=(\"prot\", \"rev_bind\", \"pep\"),\n",
    ")"
   ]
  },
  {
   "cell_type": "code",
   "execution_count": null,
   "id": "b1739c16-a063-432e-8ae7-f2e5e60ce16a",
   "metadata": {},
   "outputs": [],
   "source": [
    "val_data.edge_index_dict[(\"pep\",\"bind\",\"prot\")].shape"
   ]
  },
  {
   "cell_type": "code",
   "execution_count": null,
   "id": "0bb50dbe-7c87-4093-b7aa-b33655e7db65",
   "metadata": {},
   "outputs": [],
   "source": [
    "val_data,_,_ = val_transform(val_data)"
   ]
  },
  {
   "cell_type": "code",
   "execution_count": null,
   "id": "62315137-da4c-4c85-9d15-03ac53bf81bb",
   "metadata": {},
   "outputs": [],
   "source": [
    "train_data"
   ]
  },
  {
   "cell_type": "code",
   "execution_count": null,
   "id": "ba7cea57-5a07-4bd5-bf04-c389697ba217",
   "metadata": {},
   "outputs": [],
   "source": [
    "val_data"
   ]
  },
  {
   "cell_type": "code",
   "execution_count": null,
   "id": "25e5d4ce-fdeb-43b1-b97e-8f5dd7124a25",
   "metadata": {},
   "outputs": [],
   "source": [
    "dir(data_module.graph_sampler)"
   ]
  },
  {
   "cell_type": "code",
   "execution_count": null,
   "id": "b2fa8291-fe2a-41d6-bc8f-71f832e9436f",
   "metadata": {},
   "outputs": [],
   "source": [
    "data_module.graph_sampler.num_neighbors"
   ]
  },
  {
   "cell_type": "code",
   "execution_count": null,
   "id": "f09b66b0-7110-47f9-bd88-cbcc3e122530",
   "metadata": {},
   "outputs": [],
   "source": [
    "eval_dataloader = data_module.val_dataloader()"
   ]
  },
  {
   "cell_type": "code",
   "execution_count": null,
   "id": "975060df-e3fe-478e-9745-eaa7074e35f3",
   "metadata": {},
   "outputs": [],
   "source": [
    "sampled_data = next(iter(eval_dataloader))"
   ]
  },
  {
   "cell_type": "code",
   "execution_count": null,
   "id": "fe9df551-a01a-4f74-9d65-afc7cbcfab5f",
   "metadata": {},
   "outputs": [],
   "source": [
    "torch.count_nonzero"
   ]
  },
  {
   "cell_type": "code",
   "execution_count": null,
   "id": "4fafd4a8-1424-44c9-a2b3-2736b8c45621",
   "metadata": {},
   "outputs": [],
   "source": [
    "torch.count_nonzero(sampled_data[\"pep\",\"bind\",\"prot\"][\"edge_label\"])"
   ]
  },
  {
   "cell_type": "code",
   "execution_count": null,
   "id": "15dbc1e9-76fa-44b9-9e82-35271a09e45a",
   "metadata": {},
   "outputs": [],
   "source": [
    "sampled_data[\"pep\",\"bind\",\"prot\"]"
   ]
  },
  {
   "cell_type": "code",
   "execution_count": null,
   "id": "ae511ec5-0b6e-46b7-a2f0-6767e52130a6",
   "metadata": {},
   "outputs": [],
   "source": [
    "sampled_data[\"pep\",\"bind\",\"prot\"][\"edge_label\"].shape"
   ]
  },
  {
   "cell_type": "code",
   "execution_count": null,
   "id": "c119552e-1491-45d8-be1d-ff5d70979ff3",
   "metadata": {},
   "outputs": [],
   "source": [
    "from src.data import  PLProteinPeptideInteraction"
   ]
  },
  {
   "cell_type": "code",
   "execution_count": null,
   "id": "d5e47c16-164a-46dd-8e91-dbdf059bb2dd",
   "metadata": {},
   "outputs": [],
   "source": [
    "ppi_datamodule = PLProteinPeptideInteraction(\"./data/yipin_protein_peptide/\",remove_cache=True)"
   ]
  },
  {
   "cell_type": "code",
   "execution_count": null,
   "id": "b73a33fd-48a7-492d-8338-d476965800f7",
   "metadata": {},
   "outputs": [],
   "source": [
    "ppi_datamodule.data.metadata()"
   ]
  },
  {
   "cell_type": "code",
   "execution_count": null,
   "id": "dfdcedb7-28f5-4d8a-856f-51529d714077",
   "metadata": {},
   "outputs": [],
   "source": [
    "train_loader = ppi_datamodule.train_dataloader()"
   ]
  },
  {
   "cell_type": "code",
   "execution_count": null,
   "id": "105fe7e3-b54e-40ce-9e9b-453558e0c8dc",
   "metadata": {},
   "outputs": [],
   "source": [
    "data = next(iter(train_loader))"
   ]
  },
  {
   "cell_type": "code",
   "execution_count": null,
   "id": "16434ede-faba-4d25-b2a9-541855fd7544",
   "metadata": {},
   "outputs": [],
   "source": [
    "data[\"pep\",\"bind\",\"prot\"].input_id.shape[0]"
   ]
  },
  {
   "cell_type": "code",
   "execution_count": null,
   "id": "0f457a1e-60f8-4a39-b3cc-0c8dfe4ae04f",
   "metadata": {},
   "outputs": [],
   "source": []
  },
  {
   "cell_type": "code",
   "execution_count": null,
   "id": "76413b10-c434-45e8-8fa7-8fb035ba9ec1",
   "metadata": {},
   "outputs": [],
   "source": [
    "from src.data import  ProteinPeptideInteraction,PLProteinPeptideInteraction\n",
    "import shutil\n",
    "import torch_geometric.transforms as T"
   ]
  },
  {
   "cell_type": "code",
   "execution_count": null,
   "id": "d1151465-0cf1-42ba-a8cd-6c7b84dae355",
   "metadata": {},
   "outputs": [],
   "source": [
    "shutil.rmtree(\"./data/yipin_protein_peptide/processed/\")\n",
    "ppi = ProteinPeptideInteraction(\"./data/yipin_protein_peptide/\")\n",
    "data = ppi[0]"
   ]
  },
  {
   "cell_type": "code",
   "execution_count": null,
   "id": "e93ba97f-a9a0-487d-9bf5-af44238ba9e1",
   "metadata": {},
   "outputs": [],
   "source": [
    "data =  T.ToUndirected()(data)"
   ]
  },
  {
   "cell_type": "code",
   "execution_count": null,
   "id": "afe2e84d-27f5-458a-ae49-8201312f2d6d",
   "metadata": {},
   "outputs": [],
   "source": []
  },
  {
   "cell_type": "code",
   "execution_count": null,
   "id": "80c655e0-09c4-4534-8cc8-62d307f7d9a1",
   "metadata": {},
   "outputs": [],
   "source": [
    "data_module = PLProteinPeptideInteraction(\n",
    "    root=\"./data/yipin_protein_peptide/\",\n",
    "    remove_cache=True,\n",
    "    batch_size=128,\n",
    "    neg_sampling_ratio=10)"
   ]
  },
  {
   "cell_type": "code",
   "execution_count": null,
   "id": "d4ad27e0-53e1-44b0-8084-4850c904bd72",
   "metadata": {},
   "outputs": [],
   "source": [
    "data_module.train_data"
   ]
  },
  {
   "cell_type": "code",
   "execution_count": null,
   "id": "0fa72533-49c2-41d6-8065-49b1bfd44e61",
   "metadata": {},
   "outputs": [],
   "source": [
    "train_loader =data_module.train_dataloader()"
   ]
  },
  {
   "cell_type": "code",
   "execution_count": null,
   "id": "62230b3c-968f-4a86-8eec-ae8dac878d88",
   "metadata": {},
   "outputs": [],
   "source": [
    "next(iter(train_loader))"
   ]
  },
  {
   "cell_type": "code",
   "execution_count": null,
   "id": "337a8c20-6655-4dcb-8253-efddaf903b06",
   "metadata": {},
   "outputs": [],
   "source": [
    "data_module.val_data[\"pep\", \"bind\", \"prot\"][\"edge_label\"]"
   ]
  },
  {
   "cell_type": "markdown",
   "id": "4dc0c015-10c0-4b87-b8ba-96d6ef78af78",
   "metadata": {},
   "source": [
    "##### data_module.val_data"
   ]
  },
  {
   "cell_type": "code",
   "execution_count": null,
   "id": "b98cf6d0-eeb7-4f3a-b634-7a2ba0fc3755",
   "metadata": {},
   "outputs": [],
   "source": [
    "df = pd.read_csv(\"./data/yipin_protein_peptide/raw/pep_cls_net_cluster_0107_05.csv\")"
   ]
  },
  {
   "cell_type": "code",
   "execution_count": null,
   "id": "9503b7e1-6700-4893-b967-2352a400ff28",
   "metadata": {},
   "outputs": [],
   "source": [
    "df.head()"
   ]
  },
  {
   "cell_type": "code",
   "execution_count": null,
   "id": "e12fbea3-3950-468b-b757-a56a403b18f6",
   "metadata": {},
   "outputs": [],
   "source": [
    "df[df[\"Fold1_split\"] == \"test\"]"
   ]
  },
  {
   "cell_type": "code",
   "execution_count": null,
   "id": "75beb2ec-0565-4171-bfef-4d7f763784d0",
   "metadata": {},
   "outputs": [],
   "source": [
    "shutil.rmtree(\"./data/yipin_protein_peptide/processed/\")\n",
    "ppi = ProteinPeptideInteraction(\"./data/yipin_protein_peptide/\")\n",
    "data = ppi[0]\n",
    "data = T.ToUndirected()(data)\n",
    "# del data[\"prot\", \"rev_bind\", \"pep\"].edge_label\n",
    "\n",
    "# Perform a link-level split into training, validation, and test edges:\n",
    "train_data, val_data, test_data = T.RandomLinkSplit(\n",
    "    num_val=0.1,\n",
    "    num_test=0.1,\n",
    "    disjoint_train_ratio=0,\n",
    "    neg_sampling_ratio=2.0,\n",
    "    add_negative_train_samples=False,\n",
    "    edge_types=[(\"pep\", \"bind\", \"prot\")],\n",
    "    rev_edge_types=[(\"prot\", \"rev_bind\", \"pep\")],\n",
    ")(data)"
   ]
  },
  {
   "cell_type": "code",
   "execution_count": null,
   "id": "0bcbf541-4d3a-4413-8c4e-f10fdf2e4465",
   "metadata": {},
   "outputs": [],
   "source": [
    "data"
   ]
  },
  {
   "cell_type": "code",
   "execution_count": null,
   "id": "c028e976-7a77-4d7f-93f5-0ced933a03b3",
   "metadata": {},
   "outputs": [],
   "source": [
    "train_data"
   ]
  },
  {
   "cell_type": "code",
   "execution_count": null,
   "id": "c3aa87ff-17a2-4cd9-90c7-8a6cd7f138fc",
   "metadata": {},
   "outputs": [],
   "source": [
    "val_data"
   ]
  },
  {
   "cell_type": "code",
   "execution_count": null,
   "id": "14f82bb6-a2be-419f-84bf-45c6e44c8111",
   "metadata": {},
   "outputs": [],
   "source": [
    "test_data\n",
    "# test_data[\"pep\",\"bind\",\"prot\"]"
   ]
  },
  {
   "cell_type": "code",
   "execution_count": null,
   "id": "834e833d-c684-4ffb-9fdb-8de8487e6799",
   "metadata": {},
   "outputs": [],
   "source": [
    "train_data[\"pep\",\"bind\",\"prot\"].edge_index"
   ]
  },
  {
   "cell_type": "code",
   "execution_count": null,
   "id": "6f69bd43-6bb4-4f67-b31b-44b223e46400",
   "metadata": {},
   "outputs": [],
   "source": [
    "train_data[\"pep\",\"bind\",\"prot\"][\"edge_label_index\"]"
   ]
  },
  {
   "cell_type": "code",
   "execution_count": null,
   "id": "10ad7916-a747-47e5-8baa-e98fc9a997d3",
   "metadata": {},
   "outputs": [],
   "source": [
    "edge_label_index = train_data[\"pep\", \"bind\", \"prot\"].edge_label_index\n",
    "edge_label = train_data[\"pep\", \"bind\", \"prot\"].edge_label\n",
    "train_loader = LinkNeighborLoader(\n",
    "    data=train_data,\n",
    "    num_neighbors=[20, 10],\n",
    "    neg_sampling_ratio=2.0,\n",
    "    edge_label_index=((\"pep\", \"bind\", \"prot\"), edge_label_index),\n",
    "    edge_label=edge_label,\n",
    "    batch_size=128,\n",
    "    shuffle=True,\n",
    ")"
   ]
  },
  {
   "cell_type": "code",
   "execution_count": null,
   "id": "d779ecfe-2050-4b24-9281-a9d76d661e21",
   "metadata": {},
   "outputs": [],
   "source": [
    "batch_data = next(iter(train_loader))"
   ]
  },
  {
   "cell_type": "code",
   "execution_count": null,
   "id": "a4af804e-4adc-4e76-84e0-7e4707d79808",
   "metadata": {},
   "outputs": [],
   "source": []
  },
  {
   "cell_type": "code",
   "execution_count": null,
   "id": "3d8df90d-e07f-425e-91a5-2c5664b4920e",
   "metadata": {},
   "outputs": [],
   "source": [
    "from torch_geometric.loader import DataLoader, LinkNeighborLoader"
   ]
  },
  {
   "cell_type": "code",
   "execution_count": null,
   "id": "ddbfc7e0-856d-4561-9229-7a4dcb8fc41e",
   "metadata": {},
   "outputs": [],
   "source": [
    "train_loader = LinkNeighborLoader(data,\n",
    "                                  batch_size=32,\n",
    "                                  shuffle=True,\n",
    "                                  neg_sampling_ratio=3,\n",
    "                                   num_neighbors=[10, 10])"
   ]
  },
  {
   "cell_type": "code",
   "execution_count": null,
   "id": "17f6b500-ece1-4f83-8c0e-59cfe07d74c7",
   "metadata": {},
   "outputs": [],
   "source": [
    "shutil.rmtree(\"./data/yipin_protein_peptide/processed/\")\n",
    "ppi = ProteinPeptideInteraction(\"./data/yipin_protein_peptide/\")\n",
    "data = ppi[0]\n",
    "data = T.ToUndirected()(data)\n",
    "\n",
    "# Perform a link-level split into training, validation, and test edges:\n",
    "# train_data, val_data, test_data = T.RandomLinkSplit(\n",
    "#     num_val=0.1,\n",
    "#     num_test=0.1,\n",
    "#     neg_sampling_ratio=0.3,\n",
    "#     edge_types=[(\"pep\", \"bind\", \"prot\")],\n",
    "#     rev_edge_types=[(\"prot\", \"rev_bind\", \"pep\")],\n",
    "# )(data)"
   ]
  },
  {
   "cell_type": "code",
   "execution_count": null,
   "id": "5d63f4b6-abca-45a6-b785-af0491330f91",
   "metadata": {},
   "outputs": [],
   "source": [
    "data[\"prot\"][\"node_id\"].shape[0]"
   ]
  },
  {
   "cell_type": "code",
   "execution_count": null,
   "id": "fb335ea0-402b-4736-a70b-e359592f1b74",
   "metadata": {},
   "outputs": [],
   "source": [
    "from torch_geometric.data.lightning import LightningLinkData"
   ]
  },
  {
   "cell_type": "code",
   "execution_count": null,
   "id": "718c236c-362c-4a6f-a9fa-f5958da4510e",
   "metadata": {},
   "outputs": [],
   "source": [
    "data_module = LightningLinkData(\n",
    "        data=data,\n",
    "        input_train_edges=(\n",
    "            (\"pep\", \"bind\", \"prot\"),\n",
    "            data[\"pep\", \"bind\", \"prot\"][\"edge_index\"][:, data.train_mask],\n",
    "        ),\n",
    "        input_train_labels=data[\"pep\", \"bind\", \"prot\"][\"edge_label\"][\n",
    "            data.train_mask\n",
    "        ],\n",
    "        input_val_edges=(\n",
    "            (\"pep\", \"bind\", \"prot\"),\n",
    "            data[\"pep\", \"bind\", \"prot\"][\"edge_index\"][:, data.test_mask],\n",
    "        ),\n",
    "        input_val_labels=data[\"pep\", \"bind\", \"prot\"][\"edge_label\"][\n",
    "            data.test_mask\n",
    "        ],\n",
    "        input_test_edges=(\n",
    "            (\"pep\", \"bind\", \"prot\"),\n",
    "            data[\"pep\", \"bind\", \"prot\"][\"edge_index\"][:, data.test_mask],\n",
    "        ),\n",
    "        input_test_labels=data[\"pep\", \"bind\", \"prot\"][\"edge_label\"][\n",
    "            data.test_mask\n",
    "        ],\n",
    "        num_neighbors={\n",
    "            (\"pep\", \"bind\", \"prot\"): [10, 10],\n",
    "            (\"prot\", \"rev_bind\", \"pep\"): [10, 10],\n",
    "        },\n",
    "        neg_sampling_ratio=10,\n",
    "        batch_size=128,\n",
    "    )"
   ]
  },
  {
   "cell_type": "code",
   "execution_count": null,
   "id": "c5456385-0bab-4d04-b780-123ac3add391",
   "metadata": {},
   "outputs": [],
   "source": [
    "train_dataloader =data_module.train_dataloader()"
   ]
  },
  {
   "cell_type": "code",
   "execution_count": null,
   "id": "d4972e3f-c5b5-49d8-a2a5-73cc2006e947",
   "metadata": {},
   "outputs": [],
   "source": [
    "next(iter(train_dataloader))"
   ]
  },
  {
   "cell_type": "code",
   "execution_count": null,
   "id": "62e1bff6-b649-4de9-a331-f60c7896a9c7",
   "metadata": {},
   "outputs": [],
   "source": []
  },
  {
   "cell_type": "code",
   "execution_count": null,
   "id": "118f37d0-fa8a-4e30-86cf-cf23f3202cd7",
   "metadata": {},
   "outputs": [],
   "source": [
    "data.x_dict[\"prot\"].shape[0]"
   ]
  },
  {
   "cell_type": "code",
   "execution_count": null,
   "id": "c8ae0165-100e-41a2-b016-075c1f8de486",
   "metadata": {},
   "outputs": [],
   "source": [
    "label = train_data[\"pep\",\"bind\",\"prot\"][\"edge_label\"]"
   ]
  },
  {
   "cell_type": "code",
   "execution_count": null,
   "id": "d443b589-6a71-4f74-a3df-2d581e9b52d7",
   "metadata": {},
   "outputs": [],
   "source": [
    "(len(label)-int(torch.count_nonzero(label)))/int(torch.count_nonzero(label))"
   ]
  },
  {
   "cell_type": "code",
   "execution_count": null,
   "id": "dd2af9ec-f82d-4f01-8b78-e01dd0fa87d4",
   "metadata": {},
   "outputs": [],
   "source": [
    "data[\"pep\",\"bind\",\"prot\"]["
   ]
  },
  {
   "cell_type": "code",
   "execution_count": null,
   "id": "bce0bd09-225d-43d5-b6bb-14287d42febe",
   "metadata": {},
   "outputs": [],
   "source": [
    "torch.tensor([[1,2,3,4,5],[6,7,8,9,10]])"
   ]
  },
  {
   "cell_type": "code",
   "execution_count": null,
   "id": "a800832d-ed97-4e62-aa3c-77fd1916870a",
   "metadata": {},
   "outputs": [],
   "source": [
    "from src.model import  Model"
   ]
  },
  {
   "cell_type": "code",
   "execution_count": null,
   "id": "44e8bf5d-0ef6-4d6f-868f-097ff8e388ca",
   "metadata": {},
   "outputs": [],
   "source": [
    "model = Model(32,data.metadata(),\"pep\",\"prot\")"
   ]
  },
  {
   "cell_type": "code",
   "execution_count": null,
   "id": "2e8c11bc-16f7-45d9-9e3c-a98486496559",
   "metadata": {},
   "outputs": [],
   "source": [
    "model(train_data.x_dict,train_data.edge_index_dict,train_data[\"pep\", \"prot\"].edge_label_index)"
   ]
  },
  {
   "cell_type": "code",
   "execution_count": null,
   "id": "0b060bcf-11df-462d-bd9a-9225b5973eff",
   "metadata": {},
   "outputs": [],
   "source": [
    "import numpy as np"
   ]
  },
  {
   "cell_type": "code",
   "execution_count": null,
   "id": "f01b4cef-2e97-4719-8e59-ed473cfd13e0",
   "metadata": {},
   "outputs": [],
   "source": [
    "np.transpose(pep_prot_edges)"
   ]
  },
  {
   "cell_type": "code",
   "execution_count": null,
   "id": "86a72474-5528-4c4b-bda2-5438a94616be",
   "metadata": {},
   "outputs": [],
   "source": [
    "np.array(pep_prot_edges)"
   ]
  },
  {
   "cell_type": "code",
   "execution_count": null,
   "id": "1b35c026-e456-4ed2-b13a-b9d2791eb3f0",
   "metadata": {},
   "outputs": [],
   "source": [
    "import pandas as pd\n",
    "df = pd.read_csv(\"./data/yipin_protein_peptide/raw/pep_cls_net_cluster_0107_05.csv\")\n"
   ]
  },
  {
   "cell_type": "code",
   "execution_count": null,
   "id": "77755347-71b9-4b39-8119-97cc230a41c0",
   "metadata": {},
   "outputs": [],
   "source": [
    "df.head()"
   ]
  },
  {
   "cell_type": "code",
   "execution_count": null,
   "id": "29b08b4c-10ad-482b-998b-1f5dcc95b580",
   "metadata": {},
   "outputs": [],
   "source": [
    "train_df = df[df[\"Fold2_split\"] == \"train\"]\n",
    "test_df = df[df[\"Fold2_split\"] == \"test\"]\n",
    "pep_in_train  = set(train_df[\"pep_idx\"].unique().tolist())\n",
    "pep_in_test = set(test_df[\"pep_idx\"].unique().tolist())\n",
    "len(pep_in_train.intersection(pep_in_test))"
   ]
  },
  {
   "cell_type": "code",
   "execution_count": null,
   "id": "42c7d6ea-d925-458b-b9d4-00f72bef322e",
   "metadata": {},
   "outputs": [],
   "source": [
    "train_df = df[df[\"Fold2_split\"] == \"train\"]\n",
    "test_df = df[df[\"Fold2_split\"] == \"test\"]\n",
    "prot_in_train  = set(train_df[\"prot_idx\"].unique().tolist())\n",
    "prot_in_test = set(test_df[\"prot_idx\"].unique().tolist())\n",
    "len(prot_in_train.intersection(prot_in_test))"
   ]
  },
  {
   "cell_type": "code",
   "execution_count": null,
   "id": "5232ca74-9578-43df-8283-73de975168cd",
   "metadata": {},
   "outputs": [],
   "source": []
  },
  {
   "cell_type": "code",
   "execution_count": null,
   "id": "79e59835-87c6-424e-a493-51c8d78b66f2",
   "metadata": {},
   "outputs": [],
   "source": []
  },
  {
   "cell_type": "code",
   "execution_count": null,
   "id": "56ecc3f9-beb6-4443-8a1e-2bff3f47dcff",
   "metadata": {},
   "outputs": [],
   "source": []
  },
  {
   "cell_type": "code",
   "execution_count": null,
   "id": "5929b27a-7ede-43fa-a23c-7ce1f11ed88a",
   "metadata": {},
   "outputs": [],
   "source": [
    "device = torch.device(\"cuda:1\")\n",
    "import torch_geometric.transforms as T\n",
    "import torch\n",
    "\n",
    "import torch.nn.functional as F\n",
    "    "
   ]
  },
  {
   "cell_type": "code",
   "execution_count": null,
   "id": "59027935-d9d4-44c9-9fac-f4a1261b9833",
   "metadata": {},
   "outputs": [],
   "source": [
    "if os.path.exists(\"./data/yipin_protein_peptide/processed\"):\n",
    "    shutil.rmtree(\"./data/yipin_protein_peptide/processed\")\n",
    "dataset = ProteinPeptideInteraction(\"./data/yipin_protein_peptide/\")\n",
    "data = dataset[0].to(device)"
   ]
  },
  {
   "cell_type": "code",
   "execution_count": null,
   "id": "e8f5fec9-3b7d-4883-9391-53b1385dc6aa",
   "metadata": {},
   "outputs": [],
   "source": [
    "data[\"prot\"].x"
   ]
  },
  {
   "cell_type": "code",
   "execution_count": null,
   "id": "23163d68-ae11-4ab9-81ba-c69f79ab7bda",
   "metadata": {},
   "outputs": [],
   "source": [
    "data = dataset = MovieLens(\"./data/MovieLens\", model_name=\"all-MiniLM-L6-v2\")[0]"
   ]
  },
  {
   "cell_type": "code",
   "execution_count": null,
   "id": "ae9e1e66-91bf-48e3-b013-766052ec70d7",
   "metadata": {},
   "outputs": [],
   "source": [
    "data[\"user\",\"rates\",\"movie\"].edge_label"
   ]
  },
  {
   "cell_type": "code",
   "execution_count": null,
   "id": "dfc4a422-2b9e-41a7-8998-3b9f41f90c87",
   "metadata": {},
   "outputs": [],
   "source": []
  },
  {
   "cell_type": "code",
   "execution_count": null,
   "id": "90346e77-c6b9-4551-9dc6-0f77a969e68e",
   "metadata": {},
   "outputs": [],
   "source": [
    "import os\n",
    "transform = T.NormalizeFeatures()\n",
    "# path = osp.join(osp.dirname(osp.realpath(__file__)), \"..\", \"data\", \"Planetoid\")\n",
    "# dataset = Planetoid(path, name=\"Cora\", transform=transform)\n",
    "\n",
    "if os.path.exists(\"./data/yipin_protein_peptide/processed\"):\n",
    "    shutil.rmtree(\"./data/yipin_protein_peptide/processed\")\n",
    "dataset = ProteinPeptideInteraction(\n",
    "    \"./data/yipin_protein_peptide/\", transform=transform\n",
    ")\n",
    "# After applying the `RandomLinkSplit` transform, the data is transformed from\n",
    "# a data object to a list of tuples (train_data, val_data, test_data), with\n",
    "# each element representing the corresponding split.\n",
    "data = dataset[0]\n",
    "data[\"prot\"].x"
   ]
  },
  {
   "cell_type": "code",
   "execution_count": null,
   "id": "0f096d3d-4c53-4942-a187-7e5c81c0954e",
   "metadata": {},
   "outputs": [],
   "source": [
    "split  = T.RandomLinkSplit(\n",
    "            num_val=0.1,\n",
    "            num_test=0.1,\n",
    "            is_undirected=True,\n",
    "            add_negative_train_samples=False,\n",
    "        )"
   ]
  },
  {
   "cell_type": "code",
   "execution_count": null,
   "id": "8bfb553e-1e89-4cfd-8679-8522993c3c5b",
   "metadata": {},
   "outputs": [],
   "source": [
    "data"
   ]
  },
  {
   "cell_type": "code",
   "execution_count": null,
   "id": "3fe260b6-ee25-4683-98b8-deeff121a06a",
   "metadata": {},
   "outputs": [],
   "source": [
    "edge_index_new = torch.zeros_like(data.edge_index)"
   ]
  },
  {
   "cell_type": "code",
   "execution_count": null,
   "id": "d6e2cc5b-910a-4548-816b-6550deeac9cd",
   "metadata": {},
   "outputs": [],
   "source": [
    "edge_index_new[0] = data.edge_index[1]\n",
    "edge_index_new[1] = data.edge_index[0]"
   ]
  },
  {
   "cell_type": "code",
   "execution_count": null,
   "id": "e876a59d-0f34-4a29-bba8-9f00d59c0813",
   "metadata": {},
   "outputs": [],
   "source": [
    "data.edge_index = edge_index_new"
   ]
  },
  {
   "cell_type": "code",
   "execution_count": null,
   "id": "24577037-25b3-44c5-a8b6-a56f01cb76e4",
   "metadata": {},
   "outputs": [],
   "source": [
    "split(data)"
   ]
  },
  {
   "cell_type": "code",
   "execution_count": null,
   "id": "5ff71285-ee96-4355-9acf-4c592b17ab9c",
   "metadata": {},
   "outputs": [],
   "source": [
    "data.edge_type"
   ]
  },
  {
   "cell_type": "code",
   "execution_count": null,
   "id": "6c6815ff-b94a-46e1-91f6-b99e1115f809",
   "metadata": {},
   "outputs": [],
   "source": [
    "data.edge_type"
   ]
  },
  {
   "cell_type": "code",
   "execution_count": null,
   "id": "6e3df949-be56-411c-84f8-e937ffba3e0e",
   "metadata": {},
   "outputs": [],
   "source": [
    "data.edge_label"
   ]
  },
  {
   "cell_type": "code",
   "execution_count": null,
   "id": "3dd0af02-2e7c-40c4-bdbf-bc1e8c0e6081",
   "metadata": {},
   "outputs": [],
   "source": [
    "dataset = ProteinPeptideInteraction(\"./data/yipin_protein_peptide/\")\n",
    "data = dataset[0]\n",
    "print(data[\"pep\",\"prot\"][\"edge_label\"])\n",
    "# Add a reverse ('movie', 'rev_rates', 'user') relation for message passing:\n",
    "data = T.ToUndirected()(data)\n",
    "del data[\"prot\", \"rev_bind\", \"pep\"].edge_label\n",
    "data[\"pep\",\"prot\"][\"edge_label\"]\n",
    "\n",
    "# Perform a link-level split into training, validation, and test edges:\n",
    "train_data, val_data, test_data = T.RandomLinkSplit(\n",
    "    num_val=0.1,\n",
    "    num_test=0.1,\n",
    "    neg_sampling_ratio=2,\n",
    "    edge_types=[(\"pep\", \"bind\", \"prot\")],\n",
    "    rev_edge_types=[(\"prot\", \"rev_bind\", \"pep\")],\n",
    ")(data)\n",
    "target = train_data[\"pep\", \"prot\"].edge_label\n",
    "print(target)"
   ]
  },
  {
   "cell_type": "code",
   "execution_count": null,
   "id": "2df5d68a-1f2a-4964-9c0f-2c77fc5209e3",
   "metadata": {},
   "outputs": [],
   "source": [
    "train_data"
   ]
  },
  {
   "cell_type": "code",
   "execution_count": null,
   "id": "0c62adc5-469a-429b-8ece-0480c976f913",
   "metadata": {},
   "outputs": [],
   "source": [
    "val_data"
   ]
  },
  {
   "cell_type": "code",
   "execution_count": null,
   "id": "2ca06064-2340-470e-9b52-86dd69a11512",
   "metadata": {},
   "outputs": [],
   "source": [
    "train_data.x_dict[\"prot\"].shape"
   ]
  },
  {
   "cell_type": "code",
   "execution_count": null,
   "id": "25ac68cc-5781-47b5-94e3-4bbcb4539922",
   "metadata": {},
   "outputs": [],
   "source": []
  },
  {
   "cell_type": "code",
   "execution_count": null,
   "id": "603ad6b7-64d6-4362-9945-c10d8f7f633c",
   "metadata": {},
   "outputs": [],
   "source": [
    "train_data.edge_index_dict"
   ]
  },
  {
   "cell_type": "code",
   "execution_count": null,
   "id": "88592f5b-a539-480c-bc47-bab7bc11377f",
   "metadata": {},
   "outputs": [],
   "source": [
    "train_data[\"pep\", \"prot\"].edge_label_index"
   ]
  },
  {
   "cell_type": "code",
   "execution_count": null,
   "id": "8512d8f2-4a54-4b32-a0b4-a965c6a6ac9e",
   "metadata": {},
   "outputs": [],
   "source": [
    "data[\"pep\",\"prot\"][\"edge_label\"]"
   ]
  },
  {
   "cell_type": "code",
   "execution_count": null,
   "id": "a0dbe38a-a80f-4376-833d-20b80c0511f2",
   "metadata": {},
   "outputs": [],
   "source": [
    "target"
   ]
  },
  {
   "cell_type": "code",
   "execution_count": null,
   "id": "1973b732-8629-4620-a00e-adc807d83d32",
   "metadata": {},
   "outputs": [],
   "source": [
    "train_data.edge_index_dict"
   ]
  },
  {
   "cell_type": "code",
   "execution_count": null,
   "id": "cbda7768-bd0d-4a13-b1b2-8235558f5104",
   "metadata": {},
   "outputs": [],
   "source": [
    "df = pd.read_csv(\"./data/yipin_protein_peptide/raw/pep_cls_net.csv\",sep=\"\\t\")"
   ]
  },
  {
   "cell_type": "code",
   "execution_count": null,
   "id": "b60cd042-9bfe-4c71-864e-be9656db7deb",
   "metadata": {},
   "outputs": [],
   "source": [
    "pep_prot_edges = [eval(_edge) for _edge in df[\"pep_src_prot_dst\"].tolist()]"
   ]
  },
  {
   "cell_type": "code",
   "execution_count": null,
   "id": "4312e911-863b-4c4c-b4eb-e027c605ac2f",
   "metadata": {},
   "outputs": [],
   "source": [
    "import numpy as np\n",
    "torch.tensor(np.array(pep_prot_edges).reshape(2,-1))"
   ]
  },
  {
   "cell_type": "code",
   "execution_count": null,
   "id": "d315908b-b4d4-4005-b1b6-0ff16dd52cc8",
   "metadata": {},
   "outputs": [],
   "source": [
    "import pandas as pd"
   ]
  },
  {
   "cell_type": "code",
   "execution_count": null,
   "id": "214384dd-5956-411d-b2a0-cba2073be780",
   "metadata": {},
   "outputs": [],
   "source": [
    "df = pd.read_csv(\"./data/yipin_protein_peptide/raw/prot_vocab.csv\")"
   ]
  },
  {
   "cell_type": "code",
   "execution_count": null,
   "id": "28cb6ebc-1e51-402f-86fc-3e7ebba204e6",
   "metadata": {},
   "outputs": [],
   "source": [
    "df"
   ]
  },
  {
   "cell_type": "code",
   "execution_count": null,
   "id": "4a6ba7b1-500f-4fbf-bf8d-058a3065fc55",
   "metadata": {},
   "outputs": [],
   "source": [
    "df = pd.read_csv(\"./data/yipin_protein_peptide/raw/pep_vocab.csv\")\n",
    "df"
   ]
  },
  {
   "cell_type": "code",
   "execution_count": null,
   "id": "de828477-d217-4f89-8eaf-34cf0606db85",
   "metadata": {},
   "outputs": [],
   "source": [
    "torch.tensor([[1,2,7],[3,4,9]]).shape"
   ]
  },
  {
   "cell_type": "code",
   "execution_count": null,
   "id": "159b7642-da62-4f73-8650-6789f1c81b8b",
   "metadata": {},
   "outputs": [],
   "source": [
    "pep_seq_to_id = {}\n",
    "for _,row in df.iterrows():\n",
    "    pep_seq_to_id[row[\"pep_seq\"]] = row[\"pep_seq\"]"
   ]
  },
  {
   "cell_type": "code",
   "execution_count": null,
   "id": "a7978f05-3f17-459c-9a12-c9cc66ab71ba",
   "metadata": {},
   "outputs": [],
   "source": [
    "prot_vocab = pd.read_csv(\"./data/yipin_protein_peptide/raw/prot_vocab.csv\")"
   ]
  },
  {
   "cell_type": "code",
   "execution_count": null,
   "id": "08635b96-eb1f-4993-b53b-3ebf92ef8cda",
   "metadata": {},
   "outputs": [],
   "source": [
    "prot_vocab"
   ]
  },
  {
   "cell_type": "code",
   "execution_count": null,
   "id": "f29dc6f2-3070-467f-b9a8-69963057a542",
   "metadata": {},
   "outputs": [],
   "source": [
    "df_prot = pd.read_csv(\"./data/yipin_protein_peptide/raw/prot_vocab.csv\")"
   ]
  },
  {
   "cell_type": "code",
   "execution_count": null,
   "id": "1f72bb37-e2df-4464-83b2-ed0b3a0a9156",
   "metadata": {},
   "outputs": [],
   "source": [
    "df_prot"
   ]
  },
  {
   "cell_type": "code",
   "execution_count": null,
   "id": "cda75a95-bcc4-4c49-9308-5ed3057b75bd",
   "metadata": {},
   "outputs": [],
   "source": [
    "!ls data"
   ]
  },
  {
   "cell_type": "code",
   "execution_count": null,
   "id": "58892980-cd6a-4192-ac29-a4df6b9103c6",
   "metadata": {},
   "outputs": [],
   "source": [
    "ppi_data = ProteinPeptideInteraction(root=\"./data/yipin_protein_peptide/\")"
   ]
  },
  {
   "cell_type": "code",
   "execution_count": null,
   "id": "3c33e624-fe9f-47f6-8860-b8218acbc26c",
   "metadata": {},
   "outputs": [],
   "source": [
    "impo"
   ]
  },
  {
   "cell_type": "code",
   "execution_count": null,
   "id": "daf9bf82-2af7-4e0e-ba5a-4b8956457f84",
   "metadata": {},
   "outputs": [],
   "source": [
    "import numpy as np"
   ]
  },
  {
   "cell_type": "code",
   "execution_count": null,
   "id": "cffd2d9e-3686-4b74-b62a-2ac802cc966c",
   "metadata": {},
   "outputs": [],
   "source": [
    "random_tensor = np.random.rand(6000,1280)"
   ]
  },
  {
   "cell_type": "code",
   "execution_count": null,
   "id": "aeab99c4-df00-4ed8-87e8-ee41a8946901",
   "metadata": {},
   "outputs": [],
   "source": [
    "import sys"
   ]
  },
  {
   "cell_type": "code",
   "execution_count": null,
   "id": "8fd1cc8f-2d37-444a-b92c-a9c09c6bb9d6",
   "metadata": {},
   "outputs": [],
   "source": [
    "sys.getsizeof(random_tensor)/1024/1024"
   ]
  },
  {
   "cell_type": "code",
   "execution_count": null,
   "id": "bf1117d7-3f64-4f1f-b8dc-5dabe0956b9a",
   "metadata": {},
   "outputs": [],
   "source": [
    "import pickle"
   ]
  },
  {
   "cell_type": "code",
   "execution_count": null,
   "id": "5067f41b-c43d-4084-9d98-ec595729613a",
   "metadata": {},
   "outputs": [],
   "source": [
    "with open(\"./data/yipin_protein_peptide/raw/pep_esm.pickle\",\"rb\") as fin:\n",
    "    pep_feat = pickle.load(fin)"
   ]
  },
  {
   "cell_type": "code",
   "execution_count": null,
   "id": "8223df84-925b-45bd-babd-68850b78c2f2",
   "metadata": {},
   "outputs": [],
   "source": [
    "pep_feat.keys()"
   ]
  },
  {
   "cell_type": "code",
   "execution_count": null,
   "id": "194aaa96-ec7d-4af3-a550-b97e16dc323d",
   "metadata": {},
   "outputs": [],
   "source": [
    "mean_pep_feat = {}\n",
    "max_pep_feat = {}\n",
    "for k,v in pep_feat.items():\n",
    "    mean_pep_feat[k] = np.mean(v,axis=0)\n",
    "    max_pep_feat[k] = np.max(v,axis=0)\n",
    "with open(\"./data/yipin_protein_peptide/raw/pep_esm_mean.pickle\",\"wb\") as fout:\n",
    "    pickle.dump(mean_pep_feat,fout)\n",
    "\n",
    "with open(\"./data/yipin_protein_peptide/raw/pep_esm_max.pickle\",\"wb\") as fout:\n",
    "    pickle.dump(max_pep_feat,fout)"
   ]
  },
  {
   "cell_type": "code",
   "execution_count": null,
   "id": "e2c33702-d900-4740-910e-75e1baee48e5",
   "metadata": {},
   "outputs": [],
   "source": [
    "mean_pep_feat[list(mean_pep_feat.keys())[0]].shape"
   ]
  },
  {
   "cell_type": "code",
   "execution_count": null,
   "id": "7b622c03-80a0-4ab6-b618-f96c9f25c8f4",
   "metadata": {},
   "outputs": [],
   "source": [
    "with open(\"./data/yipin_protein_peptide/raw/pep_esm_mean.pickle\",\"wb\") as fout:\n",
    "    pickle.dump(mean_pep_feat,fout)\n",
    "\n",
    "with open(\"./data/yipin_protein_peptide/raw/pep_esm_max.pickle\",\"wb\") as fout:\n",
    "    pickle.dump(max_pep_feat,fout)"
   ]
  },
  {
   "cell_type": "code",
   "execution_count": null,
   "id": "692e154e-25b4-4fe5-b0e0-9ee6075c0abb",
   "metadata": {},
   "outputs": [],
   "source": [
    "!ls -lht ./data/yipin_protein_peptide/raw/"
   ]
  },
  {
   "cell_type": "code",
   "execution_count": null,
   "id": "085fb342-6e86-47e1-97c8-69904f20f1ba",
   "metadata": {},
   "outputs": [],
   "source": [
    "with open(\"./data/yipin_protein_peptide/raw/prot_esm.pickle\",\"rb\") as fin:\n",
    "    pep_feat = pickle.load(fin)\n",
    "mean_pep_feat = {}\n",
    "max_pep_feat = {}\n",
    "for k,v in pep_feat.items():\n",
    "    mean_pep_feat[k] = np.mean(v,axis=0)\n",
    "    max_pep_feat[k] = np.max(v,axis=0)\n",
    "with open(\"./data/yipin_protein_peptide/raw/prot_esm_mean.pickle\",\"wb\") as fout:\n",
    "    pickle.dump(mean_pep_feat,fout)\n",
    "\n",
    "with open(\"./data/yipin_protein_peptide/raw/prot_esm_max.pickle\",\"wb\") as fout:\n",
    "    pickle.dump(max_pep_feat,fout)    "
   ]
  },
  {
   "cell_type": "code",
   "execution_count": null,
   "id": "1c5122a7-a893-4601-b515-c9e3de402edd",
   "metadata": {},
   "outputs": [],
   "source": [
    "import pickle"
   ]
  },
  {
   "cell_type": "code",
   "execution_count": null,
   "id": "2245bf07-8ef9-4b99-9471-ae3af39933fc",
   "metadata": {},
   "outputs": [],
   "source": [
    "with open(\"./data/yipin_protein_peptide/raw/prot_esm_max.pickle\",\"rb\") as fin:\n",
    "    prot_esm_max = pickle.load(fin)    "
   ]
  },
  {
   "cell_type": "code",
   "execution_count": null,
   "id": "a20145e5-dc79-41fb-8b14-bd764b32b720",
   "metadata": {},
   "outputs": [],
   "source": [
    "len(prot_esm_max)"
   ]
  },
  {
   "cell_type": "code",
   "execution_count": null,
   "id": "2d0a4032-8e66-493b-b4bd-ac4546420583",
   "metadata": {},
   "outputs": [],
   "source": [
    "prot_esm_max[list(prot_esm_max.keys())[0]].shape"
   ]
  },
  {
   "cell_type": "code",
   "execution_count": null,
   "id": "7e55af78-26c3-4553-84d1-4c55dc40be70",
   "metadata": {},
   "outputs": [],
   "source": [
    "from torch_geometric.datasets import MovieLens\n",
    "dataset = MovieLens(\"./tmp/data/\", model_name=\"all-MiniLM-L6-v2\")\n",
    "data = dataset[0].to(device)\n",
    "\n",
    "# Add user node features for message passing:\n",
    "data[\"user\"].x = torch.eye(data[\"user\"].num_nodes, device=device)\n",
    "del data[\"user\"].num_nodes\n",
    "\n",
    "# Add a reverse ('movie', 'rev_rates', 'user') relation for message passing:\n",
    "data = T.ToUndirected()(data)\n",
    "del data[\"movie\", \"rev_rates\", \"user\"].edge_label  # Remove \"reverse\" label.\n",
    "\n",
    "# Perform a link-level split into training, validation, and test edges:\n",
    "train_data, val_data, test_data = T.RandomLinkSplit(\n",
    "    num_val=0.1,\n",
    "    num_test=0.1,\n",
    "    neg_sampling_ratio=0.0,\n",
    "    edge_types=[(\"user\", \"rates\", \"movie\")],\n",
    "    rev_edge_types=[(\"movie\", \"rev_rates\", \"user\")],\n",
    ")(data)\n",
    "train_data[\"user\", \"movie\"].edge_label"
   ]
  },
  {
   "cell_type": "code",
   "execution_count": null,
   "id": "0ab7fb47-a9d6-448a-8daf-69cc577cd410",
   "metadata": {},
   "outputs": [],
   "source": [
    "train_data.x_dict[\"movie\"]"
   ]
  },
  {
   "cell_type": "code",
   "execution_count": null,
   "id": "e08c96d2-fa03-40b8-aa71-b046170891dd",
   "metadata": {},
   "outputs": [],
   "source": [
    "from torch_geometric.datasets import  MovieLens"
   ]
  },
  {
   "cell_type": "code",
   "execution_count": null,
   "id": "f4011221-b53c-4be7-9d00-dc364d907009",
   "metadata": {},
   "outputs": [],
   "source": [
    "dataset = MovieLens(\"../data/\", model_name=\"all-MiniLM-L6-v2\")"
   ]
  },
  {
   "cell_type": "code",
   "execution_count": null,
   "id": "132d61f0-c749-4bc8-8a44-577e8bd78676",
   "metadata": {},
   "outputs": [],
   "source": [
    "data = dataset[0]"
   ]
  },
  {
   "cell_type": "code",
   "execution_count": null,
   "id": "1a4d6a85-fe13-4819-bc2e-cd4c2b68df93",
   "metadata": {},
   "outputs": [],
   "source": [
    "data[\"user\",\"movie\"].edge_label"
   ]
  },
  {
   "cell_type": "code",
   "execution_count": null,
   "id": "01d3e241-e04b-48eb-aa0b-3f55c9ba2346",
   "metadata": {},
   "outputs": [],
   "source": [
    "import torch.nn as nn"
   ]
  },
  {
   "cell_type": "code",
   "execution_count": null,
   "id": "155762ce-2248-4848-89b2-d34c9e6653f0",
   "metadata": {},
   "outputs": [],
   "source": [
    "m = nn.Sigmoid()\n",
    "loss = nn.BCELoss()\n",
    "input = torch.randn(34722, 1, requires_grad=True)\n",
    "target = torch.rand(34722, 1, requires_grad=False)\n",
    "output = loss(m(input), target)\n",
    "output.backward()"
   ]
  },
  {
   "cell_type": "code",
   "execution_count": null,
   "id": "95ad44fe-e92c-4b90-b267-ac90f61ffd20",
   "metadata": {},
   "outputs": [],
   "source": [
    "class MLP(torch.nn.Module):\n",
    "    def __init__(self, hidden_channels):\n",
    "        super().__init__()\n",
    "        self.lin1 = Linear(hidden_channels, hidden_channels)\n",
    "        self.lin2 = Linear(hidden_channels, 1)\n",
    "\n",
    "    def forward(self, z):\n",
    "        z = self.lin1(z).relu()\n",
    "        # z = Sigmoid(self.lin2(z))\n",
    "        z = self.lin2(z)\n",
    "        return z"
   ]
  },
  {
   "cell_type": "code",
   "execution_count": null,
   "id": "8581f117-6417-417f-9106-be62a8b2cddf",
   "metadata": {},
   "outputs": [],
   "source": [
    "fake_tensor = torch.randn(2,32)\n",
    "from torch.nn import Linear"
   ]
  },
  {
   "cell_type": "code",
   "execution_count": null,
   "id": "846bf3e1-d095-4a4e-ac83-1d9634373273",
   "metadata": {},
   "outputs": [],
   "source": [
    "mlp = MLP(32)"
   ]
  },
  {
   "cell_type": "code",
   "execution_count": null,
   "id": "c26646d0-36c8-4c04-8bfe-031c1d0c4158",
   "metadata": {},
   "outputs": [],
   "source": [
    "pred = mlp(fake_tensor)\n",
    "pred"
   ]
  },
  {
   "cell_type": "code",
   "execution_count": null,
   "id": "b0cfebc5-b527-44bd-8d64-89aa44af15ad",
   "metadata": {},
   "outputs": [],
   "source": [
    "fake_pred = torch.randn(2,1)"
   ]
  },
  {
   "cell_type": "code",
   "execution_count": null,
   "id": "306c0d58-20bf-4be4-9b6d-134851747581",
   "metadata": {},
   "outputs": [],
   "source": [
    "fake_pred"
   ]
  },
  {
   "cell_type": "code",
   "execution_count": null,
   "id": "529a8837-204d-4ddf-8487-cf80c01eb2e2",
   "metadata": {},
   "outputs": [],
   "source": [
    "criteron = nn.BCELoss()"
   ]
  },
  {
   "cell_type": "code",
   "execution_count": null,
   "id": "38760d75-26e8-4034-9fe0-cfeb2166e259",
   "metadata": {},
   "outputs": [],
   "source": [
    "criteron(fake_pred.sigmoid(),target)"
   ]
  },
  {
   "cell_type": "code",
   "execution_count": null,
   "id": "9f06d576-35fe-416f-9ed0-3bb6eaf3d76f",
   "metadata": {},
   "outputs": [],
   "source": [
    "fake_pred.shape"
   ]
  },
  {
   "cell_type": "code",
   "execution_count": null,
   "id": "6e531a04-e58f-4ffd-852c-89f37d722871",
   "metadata": {},
   "outputs": [],
   "source": [
    "loss = nn.BCEWithLogitsLoss()\n",
    "input = torch.randn(3, requires_grad=True)\n",
    "target = torch.empty(3).random_(2)\n",
    "output = loss(input, target)\n",
    "output.backward()"
   ]
  },
  {
   "cell_type": "code",
   "execution_count": null,
   "id": "c7f1c49f-8ade-4f30-8261-34f8bf517958",
   "metadata": {},
   "outputs": [],
   "source": []
  },
  {
   "cell_type": "code",
   "execution_count": null,
   "id": "643e3ad2-657e-4a26-8275-a524ae94742d",
   "metadata": {},
   "outputs": [],
   "source": [
    "target = torch.ones(2,requires_grad=False).reshape(-1,1)"
   ]
  },
  {
   "cell_type": "code",
   "execution_count": null,
   "id": "44e8ff5a-6e69-42c5-83a1-426bc0ec7e98",
   "metadata": {},
   "outputs": [],
   "source": [
    "criteron(pred,target)"
   ]
  },
  {
   "cell_type": "code",
   "execution_count": null,
   "id": "ae948875-8f40-4c4e-9d37-fcb01810f4fa",
   "metadata": {},
   "outputs": [],
   "source": [
    "import torch\n",
    "import torch.nn as nn\n",
    "\n",
    "# Define the input tensor\n",
    "inputs = torch.tensor([[0.5, 0.8, 1.2], [1.0, 0.2, 0.7], [0.6, 0.9, 1.5], [1.2, 0.3, 0.5]])\n",
    "# Define the target tensor with binary labels (0 or 1)\n",
    "targets = torch.tensor([1, 0, 1, 0], dtype=torch.float32)\n",
    "\n",
    "# Create an instance of BCELoss\n",
    "criterion = nn.BCELoss()\n",
    "\n",
    "# Define the model\n",
    "model = nn.Linear(3, 1)\n",
    "\n",
    "# Define an optimizer\n",
    "optimizer = torch.optim.SGD(model.parameters(), lr=0.1)\n",
    "\n",
    "# Run the training loop\n",
    "for epoch in range(10):\n",
    "    # Clear the gradients\n",
    "    optimizer.zero_grad()\n",
    "\n",
    "    # Forward pass\n",
    "    outputs = model(inputs)\n",
    "\n",
    "    # Apply sigmoid activation function to the outputs\n",
    "    outputs = torch.sigmoid(outputs)\n",
    "\n",
    "    # Calculate the loss\n",
    "    loss = criterion(outputs.view(-1), targets)\n",
    "\n",
    "    # Backward pass\n",
    "    loss.backward()\n",
    "\n",
    "    # Update the weights\n",
    "    optimizer.step()\n",
    "\n",
    "    # Print the loss for every epoch\n",
    "    print(f\"Epoch {epoch+1}/{10}, Loss: {loss.item()}\")\n",
    "\n",
    "# Test the model\n",
    "test_input = torch.tensor([[0.7, 0.5, 1.0]])\n",
    "with torch.no_grad():\n",
    "    test_output = model(test_input)\n",
    "    predicted_label = torch.round(test_output).item()\n",
    "    print(f\"Predicted label: {predicted_label}\")\n"
   ]
  },
  {
   "cell_type": "code",
   "execution_count": null,
   "id": "f3508675-dbed-44af-ad62-ae2a2ea2cade",
   "metadata": {},
   "outputs": [],
   "source": [
    "embedding = nn.Embedding(100, 32, max_norm=True)"
   ]
  },
  {
   "cell_type": "code",
   "execution_count": null,
   "id": "f7135844-d637-4e6f-bf13-88f5bc02588a",
   "metadata": {},
   "outputs": [],
   "source": [
    "embedding(torch.tensor([0,1,3])).shape"
   ]
  },
  {
   "cell_type": "code",
   "execution_count": null,
   "id": "f07b855f-791d-4fff-8104-dddf47ac55e6",
   "metadata": {},
   "outputs": [],
   "source": [
    "import torch\n",
    "import numpy as np"
   ]
  },
  {
   "cell_type": "code",
   "execution_count": null,
   "id": "e1508a63-d69f-4237-93d6-a2226eda8605",
   "metadata": {},
   "outputs": [],
   "source": [
    "state = torch.load(\"./lightning_logs/version_0/checkpoints/epoch=004-val_auc=98.95.ckpt\",map_location=\"cpu\")"
   ]
  },
  {
   "cell_type": "code",
   "execution_count": null,
   "id": "95459632-131c-4cd0-be02-4a0b14f2ed85",
   "metadata": {
    "scrolled": true
   },
   "outputs": [],
   "source": []
  },
  {
   "cell_type": "code",
   "execution_count": null,
   "id": "22296db3-ffc1-45d6-a11d-089a38656a84",
   "metadata": {},
   "outputs": [],
   "source": [
    "import pickle\n",
    "from src.model import PPIHetero\n",
    "from sklearn.metrics import  accuracy_score,average_precision_score,classification_report,precision_recall_curve,auc,roc_auc_score\n",
    "with open(\"./tmp/data_back.pickle\",\"rb\") as fin:\n",
    "    test_data = pickle.load(fin)\n",
    "new_state_dict = {}\n",
    "for key, value in state[\"state_dict\"].items():\n",
    "    if key.startswith(\"model.\"):\n",
    "        new_state_dict[key[6:]] = value\n",
    "    else:\n",
    "        new_state_dict[key] = value\n",
    "\n",
    "model = PPIHetero(256, 5283, 3318, test_data.metadata())\n",
    "model.load_state_dict(new_state_dict)\n",
    "\n",
    "pred = model(test_data).sigmoid().data.numpy()\n",
    "gt_label = test_data[\"pep\",\"bind\",\"prot\"].edge_label.numpy()\n",
    "pred_label = pred>=0.10\n",
    "pred_label = pred_label.astype(np.int64)\n",
    "print(roc_auc_score(gt_label,pred))\n",
    "precision_1, recall_1, threshold_1 = precision_recall_curve(gt_label, pred)\n",
    "aupr_1 = auc(recall_1, precision_1)\n",
    "print(aupr_1)\n",
    "print(classification_report(gt_label,pred_label))"
   ]
  },
  {
   "cell_type": "code",
   "execution_count": null,
   "id": "206452d0-7b62-4ca2-b9e2-9a77651f3214",
   "metadata": {},
   "outputs": [],
   "source": []
  },
  {
   "cell_type": "code",
   "execution_count": null,
   "id": "f2f24abf-c477-4025-91db-eb22b2c1dcac",
   "metadata": {},
   "outputs": [],
   "source": []
  },
  {
   "cell_type": "code",
   "execution_count": null,
   "id": "88ec0184-d268-43d2-b2f7-11a34316612c",
   "metadata": {},
   "outputs": [],
   "source": [
    "pos_idx = torch.where(test_data[\"pep\",\"bind\",\"prot\"].edge_label>0)[0]\n",
    "pos_edge_label = test_data[\"pep\",\"bind\",\"prot\"].edge_label[pos_idx]\n",
    "pos_edge_index = test_data[\"pep\",\"bind\",\"prot\"].edge_index[:,pos_idx]\n",
    "pos_edge_label_index = test_data[\"pep\",\"bind\",\"prot\"].edge_label_index[:,pos_idx]\n",
    "test_data[\"pep\",\"bind\",\"prot\"].edge_label = pos_edge_label\n",
    "test_data[\"pep\",\"bind\",\"prot\"].edge_index = pos_edge_index\n",
    "test_data[\"pep\",\"bind\",\"prot\"].edge_label_index = pos_edge_label_index\n",
    "test_data[\"prot\",\"rev_bind\",\"pep\"].edge_index = test_data[\"prot\",\"rev_bind\",\"pep\"].edge_index[:,pos_idx]"
   ]
  },
  {
   "cell_type": "code",
   "execution_count": null,
   "id": "12d7a83d-33ad-4a7d-921f-3194d3373956",
   "metadata": {},
   "outputs": [],
   "source": [
    "test_data"
   ]
  },
  {
   "cell_type": "code",
   "execution_count": null,
   "id": "af356667-446d-40b2-8da3-f2cb58d8e233",
   "metadata": {},
   "outputs": [],
   "source": []
  },
  {
   "cell_type": "code",
   "execution_count": null,
   "id": "fa476ed2-808d-4785-9e67-6eba4548493a",
   "metadata": {},
   "outputs": [],
   "source": [
    "test_data.metadata()"
   ]
  },
  {
   "cell_type": "code",
   "execution_count": null,
   "id": "de3add93-f424-4870-8253-c237b7b2e240",
   "metadata": {},
   "outputs": [],
   "source": [
    "model = PPIHetero(256,5283,3318,test_data.metadata())"
   ]
  },
  {
   "cell_type": "code",
   "execution_count": null,
   "id": "94c86a80-e57b-4a0b-a89b-3613a9a3ef6b",
   "metadata": {},
   "outputs": [],
   "source": [
    "state[\"state_dict\"]"
   ]
  },
  {
   "cell_type": "code",
   "execution_count": null,
   "id": "413d7a65-834e-4986-9a83-5a83aba322cc",
   "metadata": {},
   "outputs": [],
   "source": [
    "new_state_dict"
   ]
  },
  {
   "cell_type": "code",
   "execution_count": null,
   "id": "931eabc2-28d0-4d4f-b362-0e2c97eb2efb",
   "metadata": {},
   "outputs": [],
   "source": [
    "new_state_dict = {}\n",
    "for key, value in state[\"state_dict\"].items():\n",
    "    if key.startswith(\"model.\"):\n",
    "        new_state_dict[key[6:]] = value\n",
    "    else:\n",
    "        new_state_dict[key] = value\n",
    "\n",
    "model.load_state_dict(new_state_dict)"
   ]
  },
  {
   "cell_type": "code",
   "execution_count": null,
   "id": "777664cb-a947-4e02-ac62-6268af311ac7",
   "metadata": {},
   "outputs": [],
   "source": [
    "import numpy as np"
   ]
  },
  {
   "cell_type": "code",
   "execution_count": null,
   "id": "e40f7bc8-e1af-45c0-9015-399245a4cc37",
   "metadata": {},
   "outputs": [],
   "source": [
    "from sklearn.metrics import roc_auc_score"
   ]
  },
  {
   "cell_type": "code",
   "execution_count": null,
   "id": "5701c11b-cc65-4eb1-88f3-27e68296306f",
   "metadata": {},
   "outputs": [],
   "source": []
  },
  {
   "cell_type": "code",
   "execution_count": null,
   "id": "f453d6d6-88d3-4874-86c5-fa47a4b401be",
   "metadata": {},
   "outputs": [],
   "source": [
    "gt_label"
   ]
  },
  {
   "cell_type": "code",
   "execution_count": null,
   "id": "f0754a9c-2d1b-4f47-84cd-d9056f8b52a0",
   "metadata": {},
   "outputs": [],
   "source": [
    "np.count_nonzero(gt_label)"
   ]
  },
  {
   "cell_type": "code",
   "execution_count": null,
   "id": "413fea49-3da6-4e01-9f4f-21dbd83e26e9",
   "metadata": {},
   "outputs": [],
   "source": [
    "543/723"
   ]
  },
  {
   "cell_type": "code",
   "execution_count": null,
   "id": "daf3376d-39c5-438b-bf94-77ae4473d130",
   "metadata": {},
   "outputs": [],
   "source": []
  },
  {
   "cell_type": "code",
   "execution_count": null,
   "id": "1f90ea44-77f6-4f88-956c-db979a70d48b",
   "metadata": {},
   "outputs": [],
   "source": [
    "pred.shape"
   ]
  },
  {
   "cell_type": "code",
   "execution_count": null,
   "id": "ab8bc053-fac4-4615-9f08-518af823767d",
   "metadata": {},
   "outputs": [],
   "source": [
    "import torch"
   ]
  },
  {
   "cell_type": "code",
   "execution_count": null,
   "id": "c2807032-bbec-46bf-8d37-924462a54c22",
   "metadata": {},
   "outputs": [],
   "source": [
    "np.count_nonzero(pred>=0.5)"
   ]
  },
  {
   "cell_type": "code",
   "execution_count": null,
   "id": "2d517125-1733-435c-8434-86677f4772ac",
   "metadata": {},
   "outputs": [],
   "source": [
    "torch.cou pred >= 0.5"
   ]
  },
  {
   "cell_type": "code",
   "execution_count": null,
   "id": "53ff1eba-bfa2-43f0-acd5-614efa1b4ebd",
   "metadata": {},
   "outputs": [],
   "source": [
    "roc_auc_score(test_data[\"pep\",\"bind\",\"prot\"].edge_label.numpy(),pred)"
   ]
  },
  {
   "cell_type": "code",
   "execution_count": null,
   "id": "b6e7029a-ec09-4236-a248-f0b21d0c1ef3",
   "metadata": {},
   "outputs": [],
   "source": []
  },
  {
   "cell_type": "code",
   "execution_count": null,
   "id": "2af08cc0-9df2-4c4f-9527-357d0b081598",
   "metadata": {},
   "outputs": [],
   "source": [
    "from sklearn.metrics import aup"
   ]
  },
  {
   "cell_type": "code",
   "execution_count": null,
   "id": "9794c42d-d4c7-4e4c-83db-0f5cd2283af9",
   "metadata": {},
   "outputs": [],
   "source": []
  },
  {
   "cell_type": "code",
   "execution_count": null,
   "id": "37bd237c-d4d2-4eed-a2bd-469f3023446b",
   "metadata": {},
   "outputs": [],
   "source": []
  },
  {
   "cell_type": "code",
   "execution_count": null,
   "id": "ebea9204-d7e0-48b4-83de-c4eed4783a9f",
   "metadata": {},
   "outputs": [],
   "source": [
    "accuracy_score(test_data[\"pep\",\"bind\",\"prot\"].edge_label.numpy(),pred_label)"
   ]
  },
  {
   "cell_type": "code",
   "execution_count": null,
   "id": "798bb65e-f0f2-4692-9741-2ea4ac5eb60e",
   "metadata": {},
   "outputs": [],
   "source": [
    "average_precision_score(test_data[\"pep\",\"bind\",\"prot\"].edge_label.numpy(),pred)"
   ]
  },
  {
   "cell_type": "code",
   "execution_count": null,
   "id": "5f72d36a-b2d9-4b3c-9160-09759f906c7c",
   "metadata": {},
   "outputs": [],
   "source": [
    "print(classification_report(test_data[\"pep\",\"bind\",\"prot\"].edge_label.numpy(),pred_label))"
   ]
  },
  {
   "cell_type": "code",
   "execution_count": null,
   "id": "b8364141-1de9-4bbc-887c-0cfad9bca4ca",
   "metadata": {},
   "outputs": [],
   "source": [
    "import pandas as pd"
   ]
  },
  {
   "cell_type": "code",
   "execution_count": null,
   "id": "4801cdb2-dd33-4d76-8e48-ade62ec5ecf6",
   "metadata": {},
   "outputs": [],
   "source": [
    "df = pd.read_csv(\"./data/yipin_protein_peptide/raw/pep_cls_net_cluster_0107_05.csv\")"
   ]
  },
  {
   "cell_type": "code",
   "execution_count": null,
   "id": "509a1471-0729-490a-915a-f266fc93ed1a",
   "metadata": {},
   "outputs": [],
   "source": [
    "df.head()"
   ]
  },
  {
   "cell_type": "code",
   "execution_count": null,
   "id": "2e755ec3-058f-48f8-a55d-61276d5ae5ba",
   "metadata": {},
   "outputs": [],
   "source": [
    "edges = [eval(_edge) for _edge in df[\"edge\"].tolist()]"
   ]
  },
  {
   "cell_type": "code",
   "execution_count": null,
   "id": "6ea8ee3d-d2b1-4750-96b4-a548bfdcaee3",
   "metadata": {},
   "outputs": [],
   "source": [
    "train_idx = df[\"Fold1_split\"] == \"val\""
   ]
  },
  {
   "cell_type": "code",
   "execution_count": null,
   "id": "75a94e7a-b181-4744-a09e-c4672f420dd7",
   "metadata": {},
   "outputs": [],
   "source": [
    "torch.tensor(train_idx)"
   ]
  },
  {
   "cell_type": "code",
   "execution_count": null,
   "id": "83b53650-b5bd-47a2-a471-5e8c8809e55d",
   "metadata": {},
   "outputs": [],
   "source": [
    "from src.data import PLProteinPeptideInteraction\n",
    "import torch"
   ]
  },
  {
   "cell_type": "code",
   "execution_count": null,
   "id": "58dbe167-4430-4419-844b-c35a8f5909c2",
   "metadata": {},
   "outputs": [],
   "source": [
    "data_module = PLProteinPeptideInteraction(\n",
    "    \"./data/yipin_protein_peptide_a/\",\n",
    "    remove_cache=True,\n",
    "    batch_size=128,\n",
    "    disjoint_train_ratio=0.3,\n",
    "    neg_sampling_ratio=10,\n",
    "    pooling_method=\"mean\",\n",
    "    split_method=\"a\",\n",
    "    fold_id=1,\n",
    ")"
   ]
  },
  {
   "cell_type": "code",
   "execution_count": null,
   "id": "9fc1d634-db10-4b87-89a1-e9f767d9dfec",
   "metadata": {},
   "outputs": [],
   "source": [
    "train_loader = data_module.train_dataloader()"
   ]
  },
  {
   "cell_type": "code",
   "execution_count": null,
   "id": "1100c6b0-2f6b-4065-b474-f2ef5f8015c4",
   "metadata": {},
   "outputs": [],
   "source": [
    "for _batch in train_loader:\n",
    "    print(torch.count_nonzero(_batch[\"pep\",\"bind\",\"prot\"][\"edge_label\"]))"
   ]
  },
  {
   "cell_type": "code",
   "execution_count": null,
   "id": "f1acb829-9449-4360-8ad4-6b74e9c053a8",
   "metadata": {},
   "outputs": [],
   "source": [
    "_batch_data = next(iter(train_loader))"
   ]
  },
  {
   "cell_type": "code",
   "execution_count": null,
   "id": "95943462-aaf6-431b-aac0-f13bc7f793d1",
   "metadata": {},
   "outputs": [],
   "source": [
    "val_loader = data_module.val_dataloader()\n",
    "for _batch in val_loader:\n",
    "    print(torch.count_nonzero(_batch[\"pep\",\"bind\",\"prot\"][\"edge_label\"]))"
   ]
  },
  {
   "cell_type": "code",
   "execution_count": null,
   "id": "6e484ddf-3546-45b0-a5af-31cef3c73c2f",
   "metadata": {},
   "outputs": [],
   "source": [
    "import torch"
   ]
  },
  {
   "cell_type": "code",
   "execution_count": null,
   "id": "6ff8a6cc-b3f3-4c73-ae86-70e2249ab339",
   "metadata": {},
   "outputs": [],
   "source": [
    "_batch_data[\"pep\",\"bind\",\"prot\"][\"edge_label\"].shape"
   ]
  },
  {
   "cell_type": "code",
   "execution_count": null,
   "id": "96dd2c5f-b33d-41d0-9f25-898338668bb7",
   "metadata": {},
   "outputs": [],
   "source": [
    "torch.count_nonzero(_batch_data[\"pep\",\"bind\",\"prot\"][\"edge_label\"])"
   ]
  },
  {
   "cell_type": "code",
   "execution_count": null,
   "id": "3d57a70a-79bd-4d5f-bb8a-2eaa1ec83b17",
   "metadata": {},
   "outputs": [],
   "source": [
    "k"
   ]
  }
 ],
 "metadata": {
  "kernelspec": {
   "display_name": "Python 3 (ipykernel)",
   "language": "python",
   "name": "python3"
  },
  "language_info": {
   "codemirror_mode": {
    "name": "ipython",
    "version": 3
   },
   "file_extension": ".py",
   "mimetype": "text/x-python",
   "name": "python",
   "nbconvert_exporter": "python",
   "pygments_lexer": "ipython3",
   "version": "3.9.18"
  }
 },
 "nbformat": 4,
 "nbformat_minor": 5
}
